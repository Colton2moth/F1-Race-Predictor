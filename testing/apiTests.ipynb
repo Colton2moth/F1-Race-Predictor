{
 "cells": [
  {
   "cell_type": "code",
   "execution_count": 2,
   "id": "a68b9db1",
   "metadata": {},
   "outputs": [],
   "source": [
    "import pandas as pd\n",
    "import fastf1 as f1\n",
    "import numpy as np\n",
    "import matplotlib as plot\n",
    "import sklearn as sk\n"
   ]
  },
  {
   "cell_type": "code",
   "execution_count": 4,
   "id": "b821039e",
   "metadata": {},
   "outputs": [
    {
     "data": {
      "text/plain": [
       "2021 Season Round 7: French Grand Prix - Qualifying"
      ]
     },
     "execution_count": 4,
     "metadata": {},
     "output_type": "execute_result"
    }
   ],
   "source": [
    "session = f1.get_session(2021, 7, \"Q\")\n",
    "session"
   ]
  }
 ],
 "metadata": {
  "kernelspec": {
   "display_name": "venv",
   "language": "python",
   "name": "python3"
  },
  "language_info": {
   "codemirror_mode": {
    "name": "ipython",
    "version": 3
   },
   "file_extension": ".py",
   "mimetype": "text/x-python",
   "name": "python",
   "nbconvert_exporter": "python",
   "pygments_lexer": "ipython3",
   "version": "3.10.0"
  }
 },
 "nbformat": 4,
 "nbformat_minor": 5
}
